{
 "cells": [
  {
   "cell_type": "code",
   "execution_count": null,
   "metadata": {
    "collapsed": true
   },
   "outputs": [],
   "source": [
    "import boto\n",
    "import os\n",
    "import threading\n",
    "from datetime import datetime\n",
    "from time import sleep\n",
    "import psycopg2 as pg2\n",
    "REDSHIFT_PARALLEL_UNLOAD_COUNT = 4"
   ]
  },
  {
   "cell_type": "code",
   "execution_count": null,
   "metadata": {
    "collapsed": false
   },
   "outputs": [],
   "source": [
    "threadlimiter = threading.BoundedSemaphore(REDSHIFT_PARALLEL_UNLOAD_COUNT)\n",
    "conn_dict = {\n",
    "    'host'   : \"host\",\n",
    "    'dbname' : \"dbname\",\n",
    "    'user'   : \"user\",\n",
    "    'password' : \"password\",\n",
    "    'port'   : \"port\"\n",
    "}\n",
    "\n",
    "s3dict = {\n",
    "    \n",
    "    'bucketname' : 'bucketname',\n",
    "    'folder' : 'folder',\n",
    "    'prefix' : 'prefix',\n",
    "    's3AccessKeyID' : 's3AccessKeyID',\n",
    "    's3SecretAccessKey' : 's3SecretAccessKey'\n",
    "}\n"
   ]
  },
  {
   "cell_type": "code",
   "execution_count": null,
   "metadata": {
    "collapsed": true
   },
   "outputs": [],
   "source": [
    "def connect_to_redshift(conn_dict = conn_dict):\n",
    "    return pg2.connect(\n",
    "        host = conn_dict['host'],\n",
    "        dbname = conn_dict['dbname'], \n",
    "        user = conn_dict['user'],\n",
    "        password = conn_dict['password'],\n",
    "        port = conn_dict['port']\n",
    "    )\n",
    "\n",
    "def escape_sql(sql):\n",
    "    return sql.replace(\"'\",\"\\\\\\'\")\n",
    "\n",
    "def generate_unload_table(schema,table,s3dict = s3dict):\n",
    "    \n",
    "    UNLOAD_STMT = \"unload ('select * from \" + schema + \".\" + table +\"') to 's3://\" +\\\n",
    "                  s3dict['bucketname'] + \"/\" + s3dict['folder'] + \"/\"+ table+\"/\" + s3dict['prefix'] +\"' access_key_id '\"+\\\n",
    "                  s3dict['s3AccessKeyID'] +\"' secret_access_key '\" + s3dict['s3SecretAccessKey'] +\"' delimiter '|' \" +\\\n",
    "                  \"ADDQUOTES ESCAPE ALLOWOVERWRITE;\"\n",
    "    return UNLOAD_STMT\n",
    "\n",
    "def generate_unload_sql(sql, s3dict = s3dict):\n",
    "    UNLOAD_STMT = \"unload ('\" + escape_sql(sql) +\"') to 's3://\" +\\\n",
    "                  s3dict['bucketname'] + \"/\" + s3dict['folder'] + \"/\" + s3dict['prefix'] +\"' access_key_id '\"+\\\n",
    "                  s3dict['s3AccessKeyID'] +\"' secret_access_key '\" + s3dict['s3SecretAccessKey'] +\"' delimiter '|' \" +\\\n",
    "                  \"ADDQUOTES ESCAPE ALLOWOVERWRITE;\"                     \n",
    "    return UNLOAD_STMT\n"
   ]
  },
  {
   "cell_type": "code",
   "execution_count": null,
   "metadata": {
    "collapsed": false
   },
   "outputs": [],
   "source": [
    "class unloadTable(threading.Thread):\n",
    "    def __init__(self, schema=None, table=None, sql=None, connection=None, s3dict=s3dict):\n",
    "        \n",
    "        threading.Thread.__init__(self)\n",
    "        self.tablename = table\n",
    "        self.schemaname = schema\n",
    "        self.conn = connection\n",
    "        self.sql = sql\n",
    "        self.result = None\n",
    "        if self.sql != None:\n",
    "            self.unload_cmd = generate_unload_sql(self.sql,s3dict)\n",
    "        elif self.tablename != None:\n",
    "            self.unload_cmd = generate_unload_table(self.schemaname, self.tablename, s3dict)\n",
    "        else:\n",
    "            self.result = -1\n",
    "            raise Exception(\"Table or sql should be provided to unload\")\n",
    "        \n",
    "    def run(self):\n",
    "        threadlimiter.acquire()\n",
    "        self.exc = None\n",
    "        with self.conn.cursor() as curr:\n",
    "            try:\n",
    "                print \"starting \" + self.tablename\n",
    "                curr.execute(\"set statement_timeout = 0\")\n",
    "                curr.execute(self.unload_cmd)\n",
    "            except Exception as e:    \n",
    "                self.exc = e\n",
    "            finally:\n",
    "                print self.tablename + \" exiting\"\n",
    "                threadlimiter.release()   \n",
    "\n",
    "    def join(self):\n",
    "        super(unloadTable,self).join()\n",
    "        print self.schemaname + \".\" + self.tablename +\" joining master\"\n",
    "        if self.exc:\n",
    "            raise self.exc"
   ]
  },
  {
   "cell_type": "code",
   "execution_count": null,
   "metadata": {
    "collapsed": false
   },
   "outputs": [],
   "source": [
    "def unload_these_tables(tablelist=None,filelist=None,s3dict=s3dict,conn_dict=conn_dict):\n",
    "    connection = connect_to_redshift(conn_dict)\n",
    "    with connection.cursor() as cur:\n",
    "        cur.execute(\"select current_timestamp\")\n",
    "        stime = cur.fetchall()[0][0].strftime('%Y-%m-%d %H:%M:%S')\n",
    "    threadlist=[]\n",
    "    if tablelist != None:\n",
    "        for table in tablelist:\n",
    "            schema=table.split(\".\")[0]\n",
    "            tablename = table.split(\".\")[1]\n",
    "            sql = None\n",
    "            t=unloadTable(schema,tablename,sql,connection,s3dict)\n",
    "            threadlist.append(t)\n",
    "            t.start()\n",
    "    elif filelist!=None:\n",
    "        for filename in filelist:\n",
    "            with open(filename,\"r\") as sqlfile:\n",
    "                sql = sqlfile.read()\n",
    "            schema = None\n",
    "            tablename = None\n",
    "            t = unloadTable(sql=sql,connection = connection,s3dict=s3dict)\n",
    "            threadlist.append(t)\n",
    "            t.start()\n",
    "    else:\n",
    "        raise Exception(\"Please provide either a list of tables or a list of sql files\")\n",
    "    for t in threadlist:\n",
    "        t.join()\n",
    "    connection.reset()\n",
    "    sleep(180)\n",
    "    with connection.cursor() as cur:\n",
    "        cur.execute(\"select current_timestamp\")\n",
    "        etime = cur.fetchall()[0][0].strftime('%Y-%m-%d %H:%M:%S')\n",
    "        AUDITSQL=\"select query,split_part(split_part(path,'/',5),'_0',1) as tablename,sum(line_count) \" +\\\n",
    "                 \"as rowcount from stl_unload_log where start_time >='\" + stime +\"' and end_time<= '\" +\\\n",
    "                  etime + \"' group by 1,2 order by 2;\"\n",
    "        print AUDITSQL\n",
    "        cur.execute(AUDITSQL)\n",
    "        auditresults = cur.fetchall()\n",
    "    return auditresults\n"
   ]
  },
  {
   "cell_type": "code",
   "execution_count": null,
   "metadata": {
    "collapsed": false
   },
   "outputs": [],
   "source": [
    "def main():\n",
    "    s3creds = {\n",
    "        'bucketname' : 'xxxxxxx',\n",
    "        'folder' : 'xxxxxx',\n",
    "        'prefix' : 'data_',\n",
    "        's3AccessKeyID' : 'xxxxxxxxxxxxxxxxx',\n",
    "        's3SecretAccessKey' : 'xxxxxxxxxxxxxxxxxxxxxxxx'\n",
    "    }\n",
    "    redshiftcreds = {\n",
    "        'host'   : \"xxxxxxxxxxxxxxxxxxxxxxx\",\n",
    "        'dbname' : \"xxxxxxxxxxxx\",\n",
    "        'user'   : \"xxxxxxxxxxxx\",\n",
    "        'password' : \"xxxxxxxxxxxxxxxxxx\",\n",
    "        'port'   : \"5439\"\n",
    "    }\n",
    "    \n",
    "    tablist = [\n",
    "    'my_schema.my_table1',\n",
    "    'my_schema.my_table2',\n",
    "    'my_schema.my_table3',\n",
    "    'my_schema.my_table4',\n",
    "    'my_schema.my_table5'\n",
    "    ]\n",
    "    \n",
    "    print unload_these_tables(tablist,None,s3creds,redshiftcreds)"
   ]
  },
  {
   "cell_type": "code",
   "execution_count": null,
   "metadata": {
    "collapsed": false
   },
   "outputs": [],
   "source": [
    "if __name__ == '__main__':\n",
    "    main()\n",
    "    "
   ]
  }
 ],
 "metadata": {
  "kernelspec": {
   "display_name": "Python 2",
   "language": "python",
   "name": "python2"
  },
  "language_info": {
   "codemirror_mode": {
    "name": "ipython",
    "version": 2
   },
   "file_extension": ".py",
   "mimetype": "text/x-python",
   "name": "python",
   "nbconvert_exporter": "python",
   "pygments_lexer": "ipython2",
   "version": "2.7.13"
  }
 },
 "nbformat": 4,
 "nbformat_minor": 2
}
